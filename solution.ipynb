{
 "cells": [
  {
   "cell_type": "code",
   "execution_count": 22,
   "metadata": {
    "pycharm": {
     "name": "#%%\n"
    }
   },
   "outputs": [
    {
     "name": "stderr",
     "output_type": "stream",
     "text": [
      "[nltk_data] Downloading package stopwords to /home/maksim/nltk_data...\n",
      "[nltk_data]   Package stopwords is already up-to-date!\n",
      "[nltk_data] Downloading package punkt to /home/maksim/nltk_data...\n",
      "[nltk_data]   Package punkt is already up-to-date!\n"
     ]
    },
    {
     "data": {
      "text/plain": [
       "True"
      ]
     },
     "execution_count": 22,
     "metadata": {},
     "output_type": "execute_result"
    }
   ],
   "source": [
    "import numpy as np\n",
    "import matplotlib.pyplot as plt\n",
    "import pandas as pd\n",
    "\n",
    "from pathlib import Path\n",
    "import re\n",
    "from collections import Counter\n",
    "\n",
    "from bs4 import BeautifulSoup\n",
    "from sklearn.feature_extraction.text import TfidfVectorizer\n",
    "\n",
    "import nltk\n",
    "from nltk.stem import PorterStemmer\n",
    "from nltk.corpus import stopwords\n",
    "from nltk.tokenize import word_tokenize\n",
    "\n",
    "nltk.download('stopwords')\n",
    "nltk.download('punkt')"
   ]
  },
  {
   "cell_type": "code",
   "execution_count": 24,
   "metadata": {},
   "outputs": [],
   "source": [
    "data_path = Path('data/raw')\n",
    "d1 = pd.read_csv(data_path / '1.csv')\n",
    "# d2 = pd.read_csv(data_path / '2.csv')"
   ]
  },
  {
   "cell_type": "code",
   "execution_count": 25,
   "metadata": {},
   "outputs": [],
   "source": [
    "# data = d1.append(d2)\n",
    "data['Body']=data['Body'].astype(str)"
   ]
  },
  {
   "cell_type": "code",
   "execution_count": 26,
   "metadata": {},
   "outputs": [
    {
     "data": {
      "text/html": [
       "<div>\n",
       "<style scoped>\n",
       "    .dataframe tbody tr th:only-of-type {\n",
       "        vertical-align: middle;\n",
       "    }\n",
       "\n",
       "    .dataframe tbody tr th {\n",
       "        vertical-align: top;\n",
       "    }\n",
       "\n",
       "    .dataframe thead th {\n",
       "        text-align: right;\n",
       "    }\n",
       "</style>\n",
       "<table border=\"1\" class=\"dataframe\">\n",
       "  <thead>\n",
       "    <tr style=\"text-align: right;\">\n",
       "      <th></th>\n",
       "      <th>Body</th>\n",
       "      <th>CreationDate</th>\n",
       "    </tr>\n",
       "  </thead>\n",
       "  <tbody>\n",
       "    <tr>\n",
       "      <th>0</th>\n",
       "      <td>filter us counti level shape data set either f...</td>\n",
       "      <td>2021-09-15 00:00:23</td>\n",
       "    </tr>\n",
       "    <tr>\n",
       "      <th>1</th>\n",
       "      <td>think need fork repo first set like read</td>\n",
       "      <td>2021-09-15 00:00:40</td>\n",
       "    </tr>\n",
       "    <tr>\n",
       "      <th>2</th>\n",
       "      <td>everyth depend exactli children child point re...</td>\n",
       "      <td>2021-09-15 00:00:44</td>\n",
       "    </tr>\n",
       "    <tr>\n",
       "      <th>3</th>\n",
       "      <td>case df df lambda</td>\n",
       "      <td>2021-09-15 00:01:02</td>\n",
       "    </tr>\n",
       "    <tr>\n",
       "      <th>4</th>\n",
       "      <td>room fail galact sql suffer properli use room ...</td>\n",
       "      <td>2021-09-15 00:01:36</td>\n",
       "    </tr>\n",
       "    <tr>\n",
       "      <th>...</th>\n",
       "      <td>...</td>\n",
       "      <td>...</td>\n",
       "    </tr>\n",
       "    <tr>\n",
       "      <th>49995</th>\n",
       "      <td>onli work visual studio winmerg difftool quot ...</td>\n",
       "      <td>2021-09-24 10:44:11</td>\n",
       "    </tr>\n",
       "    <tr>\n",
       "      <th>49996</th>\n",
       "      <td>look like call function render app pass compon...</td>\n",
       "      <td>2021-09-24 10:44:15</td>\n",
       "    </tr>\n",
       "    <tr>\n",
       "      <th>49997</th>\n",
       "      <td>extract zip file use zipfil modul extract meth...</td>\n",
       "      <td>2021-09-24 10:44:31</td>\n",
       "    </tr>\n",
       "    <tr>\n",
       "      <th>49998</th>\n",
       "      <td>follow cheatsheet regard navig split use neith...</td>\n",
       "      <td>2021-09-24 10:44:41</td>\n",
       "    </tr>\n",
       "    <tr>\n",
       "      <th>49999</th>\n",
       "      <td>junction teamproduct like function sequel data...</td>\n",
       "      <td>2021-09-24 10:44:42</td>\n",
       "    </tr>\n",
       "  </tbody>\n",
       "</table>\n",
       "<p>100000 rows × 2 columns</p>\n",
       "</div>"
      ],
      "text/plain": [
       "                                                    Body         CreationDate\n",
       "0      filter us counti level shape data set either f...  2021-09-15 00:00:23\n",
       "1               think need fork repo first set like read  2021-09-15 00:00:40\n",
       "2      everyth depend exactli children child point re...  2021-09-15 00:00:44\n",
       "3                                      case df df lambda  2021-09-15 00:01:02\n",
       "4      room fail galact sql suffer properli use room ...  2021-09-15 00:01:36\n",
       "...                                                  ...                  ...\n",
       "49995  onli work visual studio winmerg difftool quot ...  2021-09-24 10:44:11\n",
       "49996  look like call function render app pass compon...  2021-09-24 10:44:15\n",
       "49997  extract zip file use zipfil modul extract meth...  2021-09-24 10:44:31\n",
       "49998  follow cheatsheet regard navig split use neith...  2021-09-24 10:44:41\n",
       "49999  junction teamproduct like function sequel data...  2021-09-24 10:44:42\n",
       "\n",
       "[100000 rows x 2 columns]"
      ]
     },
     "execution_count": 26,
     "metadata": {},
     "output_type": "execute_result"
    }
   ],
   "source": [
    "data"
   ]
  },
  {
   "cell_type": "code",
   "execution_count": 27,
   "metadata": {},
   "outputs": [],
   "source": [
    "cleaner = re.compile('<.*?>') \n",
    "data['Body']=data['Body'].map(lambda x: re.sub(cleaner, '', x))"
   ]
  },
  {
   "cell_type": "code",
   "execution_count": 28,
   "metadata": {},
   "outputs": [
    {
     "data": {
      "text/html": [
       "<div>\n",
       "<style scoped>\n",
       "    .dataframe tbody tr th:only-of-type {\n",
       "        vertical-align: middle;\n",
       "    }\n",
       "\n",
       "    .dataframe tbody tr th {\n",
       "        vertical-align: top;\n",
       "    }\n",
       "\n",
       "    .dataframe thead th {\n",
       "        text-align: right;\n",
       "    }\n",
       "</style>\n",
       "<table border=\"1\" class=\"dataframe\">\n",
       "  <thead>\n",
       "    <tr style=\"text-align: right;\">\n",
       "      <th></th>\n",
       "      <th>Body</th>\n",
       "      <th>CreationDate</th>\n",
       "    </tr>\n",
       "  </thead>\n",
       "  <tbody>\n",
       "    <tr>\n",
       "      <th>0</th>\n",
       "      <td>filter us counti level shape data set either f...</td>\n",
       "      <td>2021-09-15 00:00:23</td>\n",
       "    </tr>\n",
       "    <tr>\n",
       "      <th>1</th>\n",
       "      <td>think need fork repo first set like read</td>\n",
       "      <td>2021-09-15 00:00:40</td>\n",
       "    </tr>\n",
       "    <tr>\n",
       "      <th>2</th>\n",
       "      <td>everyth depend exactli children child point re...</td>\n",
       "      <td>2021-09-15 00:00:44</td>\n",
       "    </tr>\n",
       "    <tr>\n",
       "      <th>3</th>\n",
       "      <td>case df df lambda</td>\n",
       "      <td>2021-09-15 00:01:02</td>\n",
       "    </tr>\n",
       "    <tr>\n",
       "      <th>4</th>\n",
       "      <td>room fail galact sql suffer properli use room ...</td>\n",
       "      <td>2021-09-15 00:01:36</td>\n",
       "    </tr>\n",
       "    <tr>\n",
       "      <th>...</th>\n",
       "      <td>...</td>\n",
       "      <td>...</td>\n",
       "    </tr>\n",
       "    <tr>\n",
       "      <th>49995</th>\n",
       "      <td>onli work visual studio winmerg difftool quot ...</td>\n",
       "      <td>2021-09-24 10:44:11</td>\n",
       "    </tr>\n",
       "    <tr>\n",
       "      <th>49996</th>\n",
       "      <td>look like call function render app pass compon...</td>\n",
       "      <td>2021-09-24 10:44:15</td>\n",
       "    </tr>\n",
       "    <tr>\n",
       "      <th>49997</th>\n",
       "      <td>extract zip file use zipfil modul extract meth...</td>\n",
       "      <td>2021-09-24 10:44:31</td>\n",
       "    </tr>\n",
       "    <tr>\n",
       "      <th>49998</th>\n",
       "      <td>follow cheatsheet regard navig split use neith...</td>\n",
       "      <td>2021-09-24 10:44:41</td>\n",
       "    </tr>\n",
       "    <tr>\n",
       "      <th>49999</th>\n",
       "      <td>junction teamproduct like function sequel data...</td>\n",
       "      <td>2021-09-24 10:44:42</td>\n",
       "    </tr>\n",
       "  </tbody>\n",
       "</table>\n",
       "<p>100000 rows × 2 columns</p>\n",
       "</div>"
      ],
      "text/plain": [
       "                                                    Body         CreationDate\n",
       "0      filter us counti level shape data set either f...  2021-09-15 00:00:23\n",
       "1               think need fork repo first set like read  2021-09-15 00:00:40\n",
       "2      everyth depend exactli children child point re...  2021-09-15 00:00:44\n",
       "3                                      case df df lambda  2021-09-15 00:01:02\n",
       "4      room fail galact sql suffer properli use room ...  2021-09-15 00:01:36\n",
       "...                                                  ...                  ...\n",
       "49995  onli work visual studio winmerg difftool quot ...  2021-09-24 10:44:11\n",
       "49996  look like call function render app pass compon...  2021-09-24 10:44:15\n",
       "49997  extract zip file use zipfil modul extract meth...  2021-09-24 10:44:31\n",
       "49998  follow cheatsheet regard navig split use neith...  2021-09-24 10:44:41\n",
       "49999  junction teamproduct like function sequel data...  2021-09-24 10:44:42\n",
       "\n",
       "[100000 rows x 2 columns]"
      ]
     },
     "execution_count": 28,
     "metadata": {},
     "output_type": "execute_result"
    }
   ],
   "source": [
    "data"
   ]
  },
  {
   "cell_type": "code",
   "execution_count": 31,
   "metadata": {},
   "outputs": [],
   "source": [
    "def get_words(post):\n",
    "    return nltk.word_tokenize(post)\n",
    "\n",
    "\n",
    "def process(post):\n",
    "    words = get_words(post)\n",
    "    ps = PorterStemmer()\n",
    "    words = map(ps.stem,words)\n",
    "    words = filter(lambda word: word.isalpha(), words)\n",
    "    stopwords_set = set(stopwords.words())\n",
    "    words = filter(lambda word: word not in stopwords_set, words) \n",
    "    return words"
   ]
  },
  {
   "cell_type": "code",
   "execution_count": null,
   "metadata": {
    "scrolled": true
   },
   "outputs": [],
   "source": [
    "data['Body']=data['Body'].map(lambda post: ' '.join(process(post)))\n",
    "data"
   ]
  },
  {
   "cell_type": "code",
   "execution_count": null,
   "metadata": {},
   "outputs": [],
   "source": [
    "data.to_csv(Path('data/')/'processed'/ 'posts.csv')"
   ]
  },
  {
   "cell_type": "markdown",
   "metadata": {},
   "source": [
    "Найдём самые частые слова"
   ]
  },
  {
   "cell_type": "code",
   "execution_count": null,
   "metadata": {},
   "outputs": [],
   "source": [
    "counter = Counter()\n",
    "for post in data['Body']:\n",
    "    for word in get_words(post):\n",
    "        counter[word]+=1\n",
    "        \n",
    "counter.most_common(10)"
   ]
  },
  {
   "cell_type": "code",
   "execution_count": null,
   "metadata": {},
   "outputs": [],
   "source": [
    "data"
   ]
  },
  {
   "cell_type": "code",
   "execution_count": null,
   "metadata": {},
   "outputs": [],
   "source": []
  }
 ],
 "metadata": {
  "kernelspec": {
   "display_name": "Python 3 (ipykernel)",
   "language": "python",
   "name": "python3"
  },
  "language_info": {
   "codemirror_mode": {
    "name": "ipython",
    "version": 3
   },
   "file_extension": ".py",
   "mimetype": "text/x-python",
   "name": "python",
   "nbconvert_exporter": "python",
   "pygments_lexer": "ipython3",
   "version": "3.8.10"
  },
  "pycharm": {
   "stem_cell": {
    "cell_type": "raw",
    "metadata": {
     "collapsed": false
    },
    "source": [
     "i#%%\n",
     "mport numpy as np\n",
     "import matplotlib.pyplot as\n",
     " pl"
    ]
   }
  }
 },
 "nbformat": 4,
 "nbformat_minor": 1
}
